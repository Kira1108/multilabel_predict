{
 "cells": [
  {
   "cell_type": "code",
   "execution_count": 1,
   "metadata": {},
   "outputs": [],
   "source": [
    "from sklearn.base import BaseEstimator, ClassifierMixin\n",
    "from sklearn.base import clone\n",
    "from imblearn.under_sampling import RandomUnderSampler\n",
    "from imblearn.over_sampling import RandomOverSampler\n",
    "from imblearn.combine import SMOTEENN\n",
    "from sklearn.linear_model import LogisticRegression\n",
    "from sklearn.datasets import make_classification, make_multilabel_classification\n",
    "from sklearn.metrics import classification_report,accuracy_score, roc_auc_score, confusion_matrix\n",
    "from sklearn.model_selection import train_test_split\n",
    "from collections import Counter\n",
    "import pandas as pd\n",
    "import numpy as np\n",
    "from multi_label import MultilabelPredictor"
   ]
  },
  {
   "cell_type": "markdown",
   "metadata": {},
   "source": [
    "#### Make a classification problem"
   ]
  },
  {
   "cell_type": "code",
   "execution_count": 2,
   "metadata": {},
   "outputs": [],
   "source": [
    "def show_ratio(y):\n",
    "    minor, major = sorted(Counter(y).items(), key = lambda x:x[1])\n",
    "    resampled_ratio = minor[1] / major[1]\n",
    "    counts = Counter(y)\n",
    "    print(counts, resampled_ratio)"
   ]
  },
  {
   "cell_type": "code",
   "execution_count": 3,
   "metadata": {},
   "outputs": [
    {
     "data": {
      "text/plain": [
       "Counter({0: 896, 1: 104})"
      ]
     },
     "execution_count": 3,
     "metadata": {},
     "output_type": "execute_result"
    }
   ],
   "source": [
    "X,y = make_classification(n_samples = 1000,n_classes = 2,weights = [0.9,0.1])\n",
    "Counter(y)"
   ]
  },
  {
   "cell_type": "markdown",
   "metadata": {},
   "source": [
    "#### A multilabel predictor wraps a base predictor"
   ]
  },
  {
   "cell_type": "code",
   "execution_count": 4,
   "metadata": {},
   "outputs": [],
   "source": [
    "predictor = MultilabelPredictor(under_sample_minor_to_major= 0.2, \n",
    "                                over_sample_minor_to_major= 'auto')"
   ]
  },
  {
   "cell_type": "code",
   "execution_count": 5,
   "metadata": {},
   "outputs": [
    {
     "data": {
      "text/plain": [
       "MultilabelPredictor(base_predictor=LogisticRegression(),\n",
       "                    over_sampler=RandomOverSampler(),\n",
       "                    under_sample_minor_to_major=0.2,\n",
       "                    under_sampler=RandomUnderSampler())"
      ]
     },
     "execution_count": 5,
     "metadata": {},
     "output_type": "execute_result"
    }
   ],
   "source": [
    "predictor"
   ]
  },
  {
   "cell_type": "markdown",
   "metadata": {},
   "source": [
    "#### This predictor is able to perform sampling tasks"
   ]
  },
  {
   "cell_type": "code",
   "execution_count": 6,
   "metadata": {},
   "outputs": [
    {
     "name": "stdout",
     "output_type": "stream",
     "text": [
      "Counter({0: 520, 1: 104}) 0.2\n"
     ]
    }
   ],
   "source": [
    "x_resampled, y_resampled = predictor.under_sampling(X,y)\n",
    "show_ratio(y_resampled)"
   ]
  },
  {
   "cell_type": "code",
   "execution_count": 7,
   "metadata": {},
   "outputs": [
    {
     "name": "stdout",
     "output_type": "stream",
     "text": [
      "Counter({0: 520, 1: 520}) 1.0\n"
     ]
    }
   ],
   "source": [
    "x_resampled, y_resampled = predictor.over_sampling(x_resampled, y_resampled)\n",
    "show_ratio(y_resampled)"
   ]
  },
  {
   "cell_type": "code",
   "execution_count": 8,
   "metadata": {},
   "outputs": [
    {
     "name": "stdout",
     "output_type": "stream",
     "text": [
      "Counter({0: 520, 1: 520}) 1.0\n"
     ]
    }
   ],
   "source": [
    "x_resampled, y_resampled = predictor.combined_resampling(X,y)\n",
    "show_ratio(y_resampled)"
   ]
  },
  {
   "cell_type": "markdown",
   "metadata": {},
   "source": [
    "#### Multilabel predictions"
   ]
  },
  {
   "cell_type": "code",
   "execution_count": 32,
   "metadata": {},
   "outputs": [],
   "source": [
    "X,y = make_multilabel_classification(n_samples = 5000,n_labels = 2,n_classes = 10)\n",
    "X_train ,X_test ,y_train, y_test = train_test_split(X,y,test_size = 0.3, random_state =42)\n"
   ]
  },
  {
   "cell_type": "code",
   "execution_count": 36,
   "metadata": {},
   "outputs": [
    {
     "name": "stdout",
     "output_type": "stream",
     "text": [
      "fitting target: 0 >>>>>> Done.\n",
      "fitting target: 1 >>>>>> Done.\n",
      "fitting target: 2 >>>>>> Done.\n",
      "fitting target: 3 >>>>>> Done.\n",
      "fitting target: 4 >>>>>> Done.\n",
      "fitting target: 5 >>>>>> Done.\n",
      "fitting target: 6 >>>>>> Done.\n",
      "fitting target: 7 >>>>>> Done.\n",
      "fitting target: 8 >>>>>> Done.\n",
      "fitting target: 9 >>>>>> Done.\n"
     ]
    },
    {
     "data": {
      "text/plain": [
       "MultilabelPredictor(base_predictor=DecisionTreeClassifier(),\n",
       "                    over_sampler=RandomOverSampler(),\n",
       "                    under_sample_minor_to_major=0.1,\n",
       "                    under_sampler=RandomUnderSampler(sampling_strategy=0.4905414551607445))"
      ]
     },
     "execution_count": 36,
     "metadata": {},
     "output_type": "execute_result"
    }
   ],
   "source": [
    "from sklearn.tree import DecisionTreeClassifier\n",
    "predictor = MultilabelPredictor(DecisionTreeClassifier(),under_sample_minor_to_major= 0.1, \n",
    "                                over_sample_minor_to_major= 'auto',over_sampler = RandomOverSampler())\n",
    "\n",
    "\n",
    "predictor.fit(X_train,y_train)"
   ]
  },
  {
   "cell_type": "code",
   "execution_count": 37,
   "metadata": {},
   "outputs": [],
   "source": [
    "from multi_label import MultiLabelEvaluator\n",
    "\n",
    "eva = MultiLabelEvaluator(predictor, X_test, pd.DataFrame(y_test))\n",
    "cmats, aucs, accs = eva.evaluate()"
   ]
  },
  {
   "cell_type": "code",
   "execution_count": 38,
   "metadata": {},
   "outputs": [
    {
     "data": {
      "text/plain": [
       "{0: 0.7061578308967705,\n",
       " 1: 0.6574088521350185,\n",
       " 2: 0.5814286634045841,\n",
       " 3: 0.6592885945132845,\n",
       " 4: 0.6555865187444135,\n",
       " 5: 0.6105801059251903,\n",
       " 6: 0.6686741335049231,\n",
       " 7: 0.5827050424022866,\n",
       " 8: 0.6697909933204051,\n",
       " 9: 0.7182860318681789}"
      ]
     },
     "execution_count": 38,
     "metadata": {},
     "output_type": "execute_result"
    }
   ],
   "source": [
    "aucs"
   ]
  }
 ],
 "metadata": {
  "kernelspec": {
   "display_name": "Python 3",
   "language": "python",
   "name": "python3"
  },
  "language_info": {
   "codemirror_mode": {
    "name": "ipython",
    "version": 3
   },
   "file_extension": ".py",
   "mimetype": "text/x-python",
   "name": "python",
   "nbconvert_exporter": "python",
   "pygments_lexer": "ipython3",
   "version": "3.8.3"
  }
 },
 "nbformat": 4,
 "nbformat_minor": 4
}
